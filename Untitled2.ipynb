{
 "cells": [
  {
   "cell_type": "code",
   "execution_count": 13,
   "id": "f27691e7",
   "metadata": {},
   "outputs": [
    {
     "name": "stdout",
     "output_type": "stream",
     "text": [
      "entere size:3\n",
      "enter value: 0\n",
      "enter value: 1\n",
      "enter value: 2\n",
      "[0. 1. 2.]\n"
     ]
    }
   ],
   "source": [
    "import numpy as np\n",
    "a = np.empty((0))\n",
    "n=int(input(\"entere size:\"))\n",
    "for i in range(n):\n",
    "        print(\"enter value:\",i)\n",
    "        a = np.append(a, i)\n",
    "print(a)"
   ]
  },
  {
   "cell_type": "code",
   "execution_count": 14,
   "id": "e8907c47",
   "metadata": {},
   "outputs": [
    {
     "name": "stdout",
     "output_type": "stream",
     "text": [
      "max element in tha array is: 9\n",
      "min element in tha array is: 1\n"
     ]
    }
   ],
   "source": [
    "import numpy\n",
    "x=np.array([1,2,3,4,3,4,2,9,1,6,3,3,2,3,2])\n",
    "print(\"max element in tha array is:\",max(x))\n",
    "print(\"min element in tha array is:\",min(x))"
   ]
  },
  {
   "cell_type": "code",
   "execution_count": 15,
   "id": "78ada27e",
   "metadata": {},
   "outputs": [
    {
     "name": "stdout",
     "output_type": "stream",
     "text": [
      "[0 0 0]\n"
     ]
    }
   ],
   "source": [
    "import numpy as np\n",
    "a=np.zeros(3,dtype=int)\n",
    "print(a)"
   ]
  },
  {
   "cell_type": "code",
   "execution_count": 16,
   "id": "f9c1fad2",
   "metadata": {},
   "outputs": [
    {
     "name": "stdout",
     "output_type": "stream",
     "text": [
      "[1 1 1]\n"
     ]
    }
   ],
   "source": [
    "a=np.ones(3,dtype=int)\n",
    "print(a)"
   ]
  },
  {
   "cell_type": "code",
   "execution_count": 17,
   "id": "f399b681",
   "metadata": {},
   "outputs": [
    {
     "name": "stdout",
     "output_type": "stream",
     "text": [
      "[0. 0. 0.]\n"
     ]
    }
   ],
   "source": [
    "a=np.zeros(3)\n",
    "print(a)"
   ]
  },
  {
   "cell_type": "code",
   "execution_count": 18,
   "id": "d44955b0",
   "metadata": {},
   "outputs": [
    {
     "name": "stdout",
     "output_type": "stream",
     "text": [
      "1\n",
      "3\n",
      "5\n",
      "7\n"
     ]
    }
   ],
   "source": [
    "a=np.array([1,3,5,7])\n",
    "for i in a:\n",
    "    print(i)"
   ]
  },
  {
   "cell_type": "code",
   "execution_count": 19,
   "id": "2fa5316c",
   "metadata": {},
   "outputs": [
    {
     "name": "stdout",
     "output_type": "stream",
     "text": [
      "original array\n",
      "Counter({3: 3, 1: 2, 2: 2, 4: 2, 9: 1, 6: 1})\n"
     ]
    }
   ],
   "source": [
    "import collections\n",
    "x=np.array([1,2,3,4,3,4,2,9,1,6,3])\n",
    "print(\"original array\")\n",
    "counter=collections.Counter(x)\n",
    "print(counter)"
   ]
  },
  {
   "cell_type": "code",
   "execution_count": 20,
   "id": "3bf15247",
   "metadata": {},
   "outputs": [
    {
     "data": {
      "text/plain": [
       "5"
      ]
     },
     "execution_count": 20,
     "metadata": {},
     "output_type": "execute_result"
    }
   ],
   "source": [
    "x=np.array([1,2,3,4,3,4,2,9,1,6,3,3,2,3,2])\n",
    "np.count_nonzero(x == 3)"
   ]
  },
  {
   "cell_type": "code",
   "execution_count": 21,
   "id": "2e0c1a74",
   "metadata": {},
   "outputs": [
    {
     "data": {
      "text/plain": [
       "11"
      ]
     },
     "execution_count": 21,
     "metadata": {},
     "output_type": "execute_result"
    }
   ],
   "source": [
    "x=np.array([1,2,3,4,3,4,2,9,1,6,3,3,2,3,2])\n",
    "np.count_nonzero(x<4)"
   ]
  },
  {
   "cell_type": "code",
   "execution_count": 22,
   "id": "967f1593",
   "metadata": {},
   "outputs": [
    {
     "name": "stdout",
     "output_type": "stream",
     "text": [
      "given array: [1 2 3 4 3 4 2 9 1 6 3 3 2 3 2]\n",
      "True\n",
      "True\n",
      "False\n"
     ]
    }
   ],
   "source": [
    "x=np.array([1,2,3,4,3,4,2,9,1,6,3,3,2,3,2])\n",
    "print(\"given array:\",x)\n",
    "print(2 in x)\n",
    "print(9 in x)\n",
    "print(8 in x)"
   ]
  },
  {
   "cell_type": "code",
   "execution_count": null,
   "id": "7c5e9fc6",
   "metadata": {},
   "outputs": [],
   "source": []
  }
 ],
 "metadata": {
  "kernelspec": {
   "display_name": "Python 3 (ipykernel)",
   "language": "python",
   "name": "python3"
  },
  "language_info": {
   "codemirror_mode": {
    "name": "ipython",
    "version": 3
   },
   "file_extension": ".py",
   "mimetype": "text/x-python",
   "name": "python",
   "nbconvert_exporter": "python",
   "pygments_lexer": "ipython3",
   "version": "3.9.7"
  }
 },
 "nbformat": 4,
 "nbformat_minor": 5
}
